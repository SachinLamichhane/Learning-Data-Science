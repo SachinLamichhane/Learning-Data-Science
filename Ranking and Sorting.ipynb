{
 "cells": [
  {
   "cell_type": "code",
   "execution_count": 1,
   "id": "4888c7ab",
   "metadata": {},
   "outputs": [],
   "source": [
    "import pandas as pd\n",
    "import numpy as np\n",
    "from pandas import Series,DataFrame"
   ]
  },
  {
   "cell_type": "code",
   "execution_count": 2,
   "id": "453c06ef",
   "metadata": {},
   "outputs": [
    {
     "data": {
      "text/plain": [
       "C    0\n",
       "A    1\n",
       "B    2\n",
       "dtype: int64"
      ]
     },
     "execution_count": 2,
     "metadata": {},
     "output_type": "execute_result"
    }
   ],
   "source": [
    "ser1 = Series(range(3),index = ['C','A','B'])\n",
    "ser1"
   ]
  },
  {
   "cell_type": "code",
   "execution_count": 3,
   "id": "9b6198a0",
   "metadata": {},
   "outputs": [
    {
     "data": {
      "text/plain": [
       "A    1\n",
       "B    2\n",
       "C    0\n",
       "dtype: int64"
      ]
     },
     "execution_count": 3,
     "metadata": {},
     "output_type": "execute_result"
    }
   ],
   "source": [
    "ser1.sort_index()\n",
    "# Sorting values according to index"
   ]
  },
  {
   "cell_type": "code",
   "execution_count": 6,
   "id": "c29dffc1",
   "metadata": {},
   "outputs": [
    {
     "data": {
      "text/plain": [
       "C    0\n",
       "A    1\n",
       "B    2\n",
       "dtype: int64"
      ]
     },
     "execution_count": 6,
     "metadata": {},
     "output_type": "execute_result"
    }
   ],
   "source": [
    "# Sorting values according to the weight of the values\n",
    "ser1.sort_values(ascending = True)"
   ]
  },
  {
   "cell_type": "code",
   "execution_count": 7,
   "id": "b0abc10f",
   "metadata": {},
   "outputs": [],
   "source": [
    "# ranking\n",
    "from numpy.random import randn"
   ]
  },
  {
   "cell_type": "code",
   "execution_count": 8,
   "id": "3555beae",
   "metadata": {},
   "outputs": [
    {
     "data": {
      "text/plain": [
       "0    0.892972\n",
       "1    1.212511\n",
       "2    1.306092\n",
       "3    0.285202\n",
       "4   -1.948434\n",
       "5   -1.637207\n",
       "6    1.372388\n",
       "7    0.587575\n",
       "8   -0.360219\n",
       "9    0.291009\n",
       "dtype: float64"
      ]
     },
     "execution_count": 8,
     "metadata": {},
     "output_type": "execute_result"
    }
   ],
   "source": [
    "ser2 = Series(randn(10))\n",
    "ser2"
   ]
  },
  {
   "cell_type": "code",
   "execution_count": 10,
   "id": "0fcef013",
   "metadata": {},
   "outputs": [
    {
     "data": {
      "text/plain": [
       "4   -1.948434\n",
       "5   -1.637207\n",
       "8   -0.360219\n",
       "3    0.285202\n",
       "9    0.291009\n",
       "7    0.587575\n",
       "0    0.892972\n",
       "1    1.212511\n",
       "2    1.306092\n",
       "6    1.372388\n",
       "dtype: float64"
      ]
     },
     "execution_count": 10,
     "metadata": {},
     "output_type": "execute_result"
    }
   ],
   "source": [
    "ser2.sort_values(ascending = True)"
   ]
  },
  {
   "cell_type": "code",
   "execution_count": 11,
   "id": "57f07b76",
   "metadata": {},
   "outputs": [
    {
     "data": {
      "text/plain": [
       "6    1.372388\n",
       "2    1.306092\n",
       "1    1.212511\n",
       "0    0.892972\n",
       "7    0.587575\n",
       "9    0.291009\n",
       "3    0.285202\n",
       "8   -0.360219\n",
       "5   -1.637207\n",
       "4   -1.948434\n",
       "dtype: float64"
      ]
     },
     "execution_count": 11,
     "metadata": {},
     "output_type": "execute_result"
    }
   ],
   "source": [
    "ser2.sort_values(ascending = False)"
   ]
  },
  {
   "cell_type": "code",
   "execution_count": 12,
   "id": "328cd024",
   "metadata": {},
   "outputs": [
    {
     "data": {
      "text/plain": [
       "0     7.0\n",
       "1     8.0\n",
       "2     9.0\n",
       "3     4.0\n",
       "4     1.0\n",
       "5     2.0\n",
       "6    10.0\n",
       "7     6.0\n",
       "8     3.0\n",
       "9     5.0\n",
       "dtype: float64"
      ]
     },
     "execution_count": 12,
     "metadata": {},
     "output_type": "execute_result"
    }
   ],
   "source": [
    "ser2.rank()"
   ]
  },
  {
   "cell_type": "code",
   "execution_count": 13,
   "id": "7a2e4e8e",
   "metadata": {},
   "outputs": [],
   "source": [
    "ser3 = Series(randn(10))"
   ]
  },
  {
   "cell_type": "code",
   "execution_count": 14,
   "id": "1422359a",
   "metadata": {},
   "outputs": [
    {
     "data": {
      "text/plain": [
       "0   -0.021072\n",
       "1    0.206859\n",
       "2    0.014767\n",
       "3    0.189681\n",
       "4   -0.181272\n",
       "5    1.001593\n",
       "6   -1.308717\n",
       "7   -0.336867\n",
       "8   -0.490578\n",
       "9    0.680630\n",
       "dtype: float64"
      ]
     },
     "execution_count": 14,
     "metadata": {},
     "output_type": "execute_result"
    }
   ],
   "source": [
    "ser3"
   ]
  },
  {
   "cell_type": "code",
   "execution_count": 15,
   "id": "2b419cea",
   "metadata": {},
   "outputs": [
    {
     "data": {
      "text/plain": [
       "0     5.0\n",
       "1     8.0\n",
       "2     6.0\n",
       "3     7.0\n",
       "4     4.0\n",
       "5    10.0\n",
       "6     1.0\n",
       "7     3.0\n",
       "8     2.0\n",
       "9     9.0\n",
       "dtype: float64"
      ]
     },
     "execution_count": 15,
     "metadata": {},
     "output_type": "execute_result"
    }
   ],
   "source": [
    "ser3.rank()"
   ]
  },
  {
   "cell_type": "code",
   "execution_count": 16,
   "id": "13351ed9",
   "metadata": {},
   "outputs": [
    {
     "data": {
      "text/plain": [
       "0     5.0\n",
       "1     8.0\n",
       "2     6.0\n",
       "3     7.0\n",
       "4     4.0\n",
       "5    10.0\n",
       "6     1.0\n",
       "7     3.0\n",
       "8     2.0\n",
       "9     9.0\n",
       "dtype: float64"
      ]
     },
     "execution_count": 16,
     "metadata": {},
     "output_type": "execute_result"
    }
   ],
   "source": [
    "ser3.sort_values(ascending = True)\n",
    "ser3.rank()"
   ]
  },
  {
   "cell_type": "code",
   "execution_count": null,
   "id": "fc4ad7c4",
   "metadata": {},
   "outputs": [],
   "source": []
  }
 ],
 "metadata": {
  "kernelspec": {
   "display_name": "Python 3 (ipykernel)",
   "language": "python",
   "name": "python3"
  },
  "language_info": {
   "codemirror_mode": {
    "name": "ipython",
    "version": 3
   },
   "file_extension": ".py",
   "mimetype": "text/x-python",
   "name": "python",
   "nbconvert_exporter": "python",
   "pygments_lexer": "ipython3",
   "version": "3.9.12"
  }
 },
 "nbformat": 4,
 "nbformat_minor": 5
}
