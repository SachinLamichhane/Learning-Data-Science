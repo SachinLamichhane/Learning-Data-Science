{
 "cells": [
  {
   "cell_type": "code",
   "execution_count": 1,
   "id": "a4bf0dca",
   "metadata": {},
   "outputs": [],
   "source": [
    "import numpy as np\n"
   ]
  },
  {
   "cell_type": "code",
   "execution_count": 2,
   "id": "aada2b85",
   "metadata": {},
   "outputs": [],
   "source": [
    "my_list1 = [1,2,3,4]"
   ]
  },
  {
   "cell_type": "code",
   "execution_count": 3,
   "id": "74540a14",
   "metadata": {},
   "outputs": [],
   "source": [
    "array1 = np.array(my_list1)"
   ]
  },
  {
   "cell_type": "code",
   "execution_count": 4,
   "id": "073bfe28",
   "metadata": {},
   "outputs": [
    {
     "data": {
      "text/plain": [
       "array([1, 2, 3, 4])"
      ]
     },
     "execution_count": 4,
     "metadata": {},
     "output_type": "execute_result"
    }
   ],
   "source": [
    "array1"
   ]
  },
  {
   "cell_type": "code",
   "execution_count": 5,
   "id": "22d99500",
   "metadata": {},
   "outputs": [],
   "source": [
    "my_list2 = [66,33,99,55]"
   ]
  },
  {
   "cell_type": "code",
   "execution_count": 6,
   "id": "db1d7b19",
   "metadata": {},
   "outputs": [],
   "source": [
    "my_lists = [array1, my_list2]"
   ]
  },
  {
   "cell_type": "code",
   "execution_count": 7,
   "id": "018482e3",
   "metadata": {},
   "outputs": [],
   "source": [
    "my_array = np.array(my_lists)"
   ]
  },
  {
   "cell_type": "code",
   "execution_count": 8,
   "id": "4bc3b257",
   "metadata": {},
   "outputs": [
    {
     "data": {
      "text/plain": [
       "array([[ 1,  2,  3,  4],\n",
       "       [66, 33, 99, 55]])"
      ]
     },
     "execution_count": 8,
     "metadata": {},
     "output_type": "execute_result"
    }
   ],
   "source": [
    "my_array"
   ]
  },
  {
   "cell_type": "code",
   "execution_count": 10,
   "id": "a94219b3",
   "metadata": {},
   "outputs": [
    {
     "data": {
      "text/plain": [
       "(2, 4)"
      ]
     },
     "execution_count": 10,
     "metadata": {},
     "output_type": "execute_result"
    }
   ],
   "source": [
    "my_array.shape"
   ]
  },
  {
   "cell_type": "code",
   "execution_count": 11,
   "id": "3928edeb",
   "metadata": {},
   "outputs": [
    {
     "data": {
      "text/plain": [
       "dtype('int32')"
      ]
     },
     "execution_count": 11,
     "metadata": {},
     "output_type": "execute_result"
    }
   ],
   "source": [
    "my_array.dtype"
   ]
  },
  {
   "cell_type": "markdown",
   "id": "f8fc4dcf",
   "metadata": {},
   "source": [
    "Special case arrays"
   ]
  },
  {
   "cell_type": "code",
   "execution_count": 13,
   "id": "f66547df",
   "metadata": {},
   "outputs": [],
   "source": [
    "new_array = np.zeros(5)"
   ]
  },
  {
   "cell_type": "code",
   "execution_count": 14,
   "id": "4c7e6c92",
   "metadata": {},
   "outputs": [
    {
     "data": {
      "text/plain": [
       "dtype('float64')"
      ]
     },
     "execution_count": 14,
     "metadata": {},
     "output_type": "execute_result"
    }
   ],
   "source": [
    "new_array.dtype"
   ]
  },
  {
   "cell_type": "code",
   "execution_count": 15,
   "id": "b867fcce",
   "metadata": {},
   "outputs": [
    {
     "data": {
      "text/plain": [
       "array([[1., 1., 1., 1., 1.],\n",
       "       [1., 1., 1., 1., 1.],\n",
       "       [1., 1., 1., 1., 1.],\n",
       "       [1., 1., 1., 1., 1.],\n",
       "       [1., 1., 1., 1., 1.]])"
      ]
     },
     "execution_count": 15,
     "metadata": {},
     "output_type": "execute_result"
    }
   ],
   "source": [
    "np.ones([5,5])"
   ]
  },
  {
   "cell_type": "code",
   "execution_count": 16,
   "id": "bd9bb22b",
   "metadata": {},
   "outputs": [
    {
     "data": {
      "text/plain": [
       "array([[1., 0., 0., 0., 0.],\n",
       "       [0., 1., 0., 0., 0.],\n",
       "       [0., 0., 1., 0., 0.],\n",
       "       [0., 0., 0., 1., 0.],\n",
       "       [0., 0., 0., 0., 1.]])"
      ]
     },
     "execution_count": 16,
     "metadata": {},
     "output_type": "execute_result"
    }
   ],
   "source": [
    "np.eye(5)"
   ]
  },
  {
   "cell_type": "markdown",
   "id": "0509a4bf",
   "metadata": {},
   "source": [
    "np.arange creates arrays of the desired choice. It can take arguments ('start of the array', 'end point of the array', 'interval'"
   ]
  },
  {
   "cell_type": "code",
   "execution_count": 17,
   "id": "4fc3cece",
   "metadata": {},
   "outputs": [
    {
     "data": {
      "text/plain": [
       "array([ 5,  7,  9, 11, 13, 15, 17, 19, 21, 23, 25, 27, 29, 31, 33, 35, 37,\n",
       "       39, 41, 43, 45, 47, 49])"
      ]
     },
     "execution_count": 17,
     "metadata": {},
     "output_type": "execute_result"
    }
   ],
   "source": [
    "np.arange(5,50,2)"
   ]
  },
  {
   "cell_type": "markdown",
   "id": "ffb248d3",
   "metadata": {},
   "source": [
    "Using arrays and scalars"
   ]
  },
  {
   "cell_type": "code",
   "execution_count": 21,
   "id": "fa55666f",
   "metadata": {},
   "outputs": [
    {
     "data": {
      "text/plain": [
       "array([[ 1,  2,  3,  4],\n",
       "       [ 8,  9, 10, 11]])"
      ]
     },
     "execution_count": 21,
     "metadata": {},
     "output_type": "execute_result"
    }
   ],
   "source": [
    "arr1 = np.array([[1,2,3,4],[8,9,10,11]])\n",
    "arr1"
   ]
  },
  {
   "cell_type": "code",
   "execution_count": 22,
   "id": "f6a08a3d",
   "metadata": {},
   "outputs": [
    {
     "data": {
      "text/plain": [
       "array([[  1,   4,   9,  16],\n",
       "       [ 64,  81, 100, 121]])"
      ]
     },
     "execution_count": 22,
     "metadata": {},
     "output_type": "execute_result"
    }
   ],
   "source": [
    "arr1*arr1"
   ]
  },
  {
   "cell_type": "code",
   "execution_count": 23,
   "id": "a4167966",
   "metadata": {},
   "outputs": [
    {
     "data": {
      "text/plain": [
       "array([[0, 0, 0, 0],\n",
       "       [0, 0, 0, 0]])"
      ]
     },
     "execution_count": 23,
     "metadata": {},
     "output_type": "execute_result"
    }
   ],
   "source": [
    "arr1-arr1"
   ]
  },
  {
   "cell_type": "code",
   "execution_count": 24,
   "id": "a2ef4711",
   "metadata": {},
   "outputs": [
    {
     "data": {
      "text/plain": [
       "array([[1.        , 0.5       , 0.33333333, 0.25      ],\n",
       "       [0.125     , 0.11111111, 0.1       , 0.09090909]])"
      ]
     },
     "execution_count": 24,
     "metadata": {},
     "output_type": "execute_result"
    }
   ],
   "source": [
    "1 / arr1"
   ]
  },
  {
   "cell_type": "code",
   "execution_count": 25,
   "id": "c9062aa4",
   "metadata": {},
   "outputs": [
    {
     "data": {
      "text/plain": [
       "array([[   1,    8,   27,   64],\n",
       "       [ 512,  729, 1000, 1331]], dtype=int32)"
      ]
     },
     "execution_count": 25,
     "metadata": {},
     "output_type": "execute_result"
    }
   ],
   "source": [
    "arr1 ** 3"
   ]
  },
  {
   "cell_type": "markdown",
   "id": "904429aa",
   "metadata": {},
   "source": [
    "Indexing Arrays"
   ]
  },
  {
   "cell_type": "code",
   "execution_count": 26,
   "id": "579025f5",
   "metadata": {},
   "outputs": [],
   "source": [
    "arr = np.arange(0,11)"
   ]
  },
  {
   "cell_type": "code",
   "execution_count": 27,
   "id": "8d84b2db",
   "metadata": {},
   "outputs": [
    {
     "data": {
      "text/plain": [
       "array([ 0,  1,  2,  3,  4,  5,  6,  7,  8,  9, 10])"
      ]
     },
     "execution_count": 27,
     "metadata": {},
     "output_type": "execute_result"
    }
   ],
   "source": [
    "arr"
   ]
  },
  {
   "cell_type": "code",
   "execution_count": 28,
   "id": "74b611e1",
   "metadata": {},
   "outputs": [
    {
     "data": {
      "text/plain": [
       "8"
      ]
     },
     "execution_count": 28,
     "metadata": {},
     "output_type": "execute_result"
    }
   ],
   "source": [
    "arr[8]"
   ]
  },
  {
   "cell_type": "code",
   "execution_count": 29,
   "id": "b2944195",
   "metadata": {},
   "outputs": [
    {
     "data": {
      "text/plain": [
       "array([1, 2, 3, 4])"
      ]
     },
     "execution_count": 29,
     "metadata": {},
     "output_type": "execute_result"
    }
   ],
   "source": [
    "arr[1:5] "
   ]
  },
  {
   "cell_type": "code",
   "execution_count": 30,
   "id": "4b629c87",
   "metadata": {},
   "outputs": [
    {
     "data": {
      "text/plain": [
       "array([100, 100, 100, 100, 100,   5,   6,   7,   8,   9,  10])"
      ]
     },
     "execution_count": 30,
     "metadata": {},
     "output_type": "execute_result"
    }
   ],
   "source": [
    "arr[0:5] = 100\n",
    "arr"
   ]
  },
  {
   "cell_type": "code",
   "execution_count": 34,
   "id": "74c8e04f",
   "metadata": {},
   "outputs": [
    {
     "data": {
      "text/plain": [
       "array([ 0,  1,  2,  3,  4,  5,  6,  7,  8,  9, 10])"
      ]
     },
     "execution_count": 34,
     "metadata": {},
     "output_type": "execute_result"
    }
   ],
   "source": [
    " arr = np.arange(0,11)\n",
    "arr"
   ]
  },
  {
   "cell_type": "code",
   "execution_count": 35,
   "id": "e6c4fc45",
   "metadata": {},
   "outputs": [],
   "source": [
    "slice_off_arr = arr[0:6]"
   ]
  },
  {
   "cell_type": "code",
   "execution_count": 36,
   "id": "9b29554f",
   "metadata": {},
   "outputs": [
    {
     "data": {
      "text/plain": [
       "array([0, 1, 2, 3, 4, 5])"
      ]
     },
     "execution_count": 36,
     "metadata": {},
     "output_type": "execute_result"
    }
   ],
   "source": [
    "slice_off_arr"
   ]
  },
  {
   "cell_type": "code",
   "execution_count": 37,
   "id": "e555d8a0",
   "metadata": {},
   "outputs": [
    {
     "data": {
      "text/plain": [
       "array([99, 99, 99, 99, 99, 99])"
      ]
     },
     "execution_count": 37,
     "metadata": {},
     "output_type": "execute_result"
    }
   ],
   "source": [
    "slice_off_arr[:]= 99\n",
    "slice_off_arr"
   ]
  },
  {
   "cell_type": "code",
   "execution_count": 38,
   "id": "93955293",
   "metadata": {},
   "outputs": [
    {
     "data": {
      "text/plain": [
       "array([99, 99, 99, 99, 99, 99,  6,  7,  8,  9, 10])"
      ]
     },
     "execution_count": 38,
     "metadata": {},
     "output_type": "execute_result"
    }
   ],
   "source": [
    "arr"
   ]
  },
  {
   "cell_type": "code",
   "execution_count": 39,
   "id": "d65fc73a",
   "metadata": {},
   "outputs": [],
   "source": [
    "arr_copy = arr.copy()"
   ]
  },
  {
   "cell_type": "code",
   "execution_count": 40,
   "id": "c5630d7d",
   "metadata": {},
   "outputs": [
    {
     "data": {
      "text/plain": [
       "array([99, 99, 99, 99, 99, 99,  6,  7,  8,  9, 10])"
      ]
     },
     "execution_count": 40,
     "metadata": {},
     "output_type": "execute_result"
    }
   ],
   "source": [
    "arr_copy"
   ]
  },
  {
   "cell_type": "code",
   "execution_count": 42,
   "id": "fd620837",
   "metadata": {},
   "outputs": [
    {
     "data": {
      "text/plain": [
       "array([[ 5, 10, 10],\n",
       "       [20, 25, 30],\n",
       "       [35, 30, 45]])"
      ]
     },
     "execution_count": 42,
     "metadata": {},
     "output_type": "execute_result"
    }
   ],
   "source": [
    "arr_2d = np.array(([5,10,10], [20,25,30],[35,30,45]))\n",
    "arr_2d"
   ]
  },
  {
   "cell_type": "code",
   "execution_count": 43,
   "id": "2770e3e9",
   "metadata": {},
   "outputs": [
    {
     "data": {
      "text/plain": [
       "array([20, 25, 30])"
      ]
     },
     "execution_count": 43,
     "metadata": {},
     "output_type": "execute_result"
    }
   ],
   "source": [
    "arr_2d[1]"
   ]
  },
  {
   "cell_type": "code",
   "execution_count": 44,
   "id": "7dfb0533",
   "metadata": {},
   "outputs": [
    {
     "data": {
      "text/plain": [
       "30"
      ]
     },
     "execution_count": 44,
     "metadata": {},
     "output_type": "execute_result"
    }
   ],
   "source": [
    "arr_2d[1,2]"
   ]
  },
  {
   "cell_type": "code",
   "execution_count": 45,
   "id": "3e3284fe",
   "metadata": {},
   "outputs": [
    {
     "data": {
      "text/plain": [
       "array([[ 5, 10, 10],\n",
       "       [20, 25, 30],\n",
       "       [35, 30, 45]])"
      ]
     },
     "execution_count": 45,
     "metadata": {},
     "output_type": "execute_result"
    }
   ],
   "source": [
    "arr_2d"
   ]
  },
  {
   "cell_type": "code",
   "execution_count": 46,
   "id": "427e098d",
   "metadata": {},
   "outputs": [
    {
     "data": {
      "text/plain": [
       "array([[10, 10],\n",
       "       [25, 30]])"
      ]
     },
     "execution_count": 46,
     "metadata": {},
     "output_type": "execute_result"
    }
   ],
   "source": [
    "arr_2d[:2,1:]"
   ]
  },
  {
   "cell_type": "code",
   "execution_count": 47,
   "id": "480325d0",
   "metadata": {},
   "outputs": [
    {
     "data": {
      "text/plain": [
       "array([35, 30, 45])"
      ]
     },
     "execution_count": 47,
     "metadata": {},
     "output_type": "execute_result"
    }
   ],
   "source": [
    "arr_2d[2]"
   ]
  },
  {
   "cell_type": "code",
   "execution_count": 50,
   "id": "f6e513d0",
   "metadata": {},
   "outputs": [
    {
     "data": {
      "text/plain": [
       "array([[25, 30],\n",
       "       [30, 45]])"
      ]
     },
     "execution_count": 50,
     "metadata": {},
     "output_type": "execute_result"
    }
   ],
   "source": [
    "arr_2d[1:,1:]"
   ]
  },
  {
   "cell_type": "code",
   "execution_count": 51,
   "id": "4d781765",
   "metadata": {},
   "outputs": [],
   "source": [
    "arr2d = np.zeros((10,10))"
   ]
  },
  {
   "cell_type": "code",
   "execution_count": 52,
   "id": "1e273385",
   "metadata": {},
   "outputs": [
    {
     "data": {
      "text/plain": [
       "array([[0., 0., 0., 0., 0., 0., 0., 0., 0., 0.],\n",
       "       [0., 0., 0., 0., 0., 0., 0., 0., 0., 0.],\n",
       "       [0., 0., 0., 0., 0., 0., 0., 0., 0., 0.],\n",
       "       [0., 0., 0., 0., 0., 0., 0., 0., 0., 0.],\n",
       "       [0., 0., 0., 0., 0., 0., 0., 0., 0., 0.],\n",
       "       [0., 0., 0., 0., 0., 0., 0., 0., 0., 0.],\n",
       "       [0., 0., 0., 0., 0., 0., 0., 0., 0., 0.],\n",
       "       [0., 0., 0., 0., 0., 0., 0., 0., 0., 0.],\n",
       "       [0., 0., 0., 0., 0., 0., 0., 0., 0., 0.],\n",
       "       [0., 0., 0., 0., 0., 0., 0., 0., 0., 0.]])"
      ]
     },
     "execution_count": 52,
     "metadata": {},
     "output_type": "execute_result"
    }
   ],
   "source": [
    "arr2d\n"
   ]
  },
  {
   "cell_type": "code",
   "execution_count": 56,
   "id": "e093f91b",
   "metadata": {},
   "outputs": [
    {
     "data": {
      "text/plain": [
       "10"
      ]
     },
     "execution_count": 56,
     "metadata": {},
     "output_type": "execute_result"
    }
   ],
   "source": [
    "arr2d_length = arr2d.shape[1]\n",
    "arr2d_length"
   ]
  },
  {
   "cell_type": "code",
   "execution_count": 63,
   "id": "c1c80633",
   "metadata": {},
   "outputs": [],
   "source": [
    "for i in range(arr2d_length):\n",
    "    arr2d[i]= i"
   ]
  },
  {
   "cell_type": "code",
   "execution_count": 64,
   "id": "15113364",
   "metadata": {},
   "outputs": [
    {
     "data": {
      "text/plain": [
       "array([[0., 0., 0., 0., 0., 0., 0., 0., 0., 0.],\n",
       "       [1., 1., 1., 1., 1., 1., 1., 1., 1., 1.],\n",
       "       [2., 2., 2., 2., 2., 2., 2., 2., 2., 2.],\n",
       "       [3., 3., 3., 3., 3., 3., 3., 3., 3., 3.],\n",
       "       [4., 4., 4., 4., 4., 4., 4., 4., 4., 4.],\n",
       "       [5., 5., 5., 5., 5., 5., 5., 5., 5., 5.],\n",
       "       [6., 6., 6., 6., 6., 6., 6., 6., 6., 6.],\n",
       "       [7., 7., 7., 7., 7., 7., 7., 7., 7., 7.],\n",
       "       [8., 8., 8., 8., 8., 8., 8., 8., 8., 8.],\n",
       "       [9., 9., 9., 9., 9., 9., 9., 9., 9., 9.]])"
      ]
     },
     "execution_count": 64,
     "metadata": {},
     "output_type": "execute_result"
    }
   ],
   "source": [
    "arr2d"
   ]
  },
  {
   "cell_type": "code",
   "execution_count": 66,
   "id": "f5c43d26",
   "metadata": {},
   "outputs": [
    {
     "data": {
      "text/plain": [
       "array([[2., 2., 2., 2., 2., 2., 2., 2., 2., 2.],\n",
       "       [4., 4., 4., 4., 4., 4., 4., 4., 4., 4.],\n",
       "       [6., 6., 6., 6., 6., 6., 6., 6., 6., 6.],\n",
       "       [8., 8., 8., 8., 8., 8., 8., 8., 8., 8.]])"
      ]
     },
     "execution_count": 66,
     "metadata": {},
     "output_type": "execute_result"
    }
   ],
   "source": [
    "arr2d[[2,4,6,8]]"
   ]
  },
  {
   "cell_type": "code",
   "execution_count": 67,
   "id": "df6c2226",
   "metadata": {},
   "outputs": [
    {
     "data": {
      "text/plain": [
       "array([[1., 1., 1., 1., 1., 1., 1., 1., 1., 1.],\n",
       "       [5., 5., 5., 5., 5., 5., 5., 5., 5., 5.],\n",
       "       [6., 6., 6., 6., 6., 6., 6., 6., 6., 6.],\n",
       "       [7., 7., 7., 7., 7., 7., 7., 7., 7., 7.]])"
      ]
     },
     "execution_count": 67,
     "metadata": {},
     "output_type": "execute_result"
    }
   ],
   "source": [
    "arr2d[[1,5,6,7]]"
   ]
  },
  {
   "cell_type": "markdown",
   "id": "53d99d21",
   "metadata": {},
   "source": [
    "Array Transposition"
   ]
  },
  {
   "cell_type": "code",
   "execution_count": 68,
   "id": "995a8c66",
   "metadata": {},
   "outputs": [],
   "source": [
    "arr = np.arange(50).reshape((10,5))"
   ]
  },
  {
   "cell_type": "code",
   "execution_count": 69,
   "id": "1d8405d7",
   "metadata": {},
   "outputs": [
    {
     "data": {
      "text/plain": [
       "array([[ 0,  1,  2,  3,  4],\n",
       "       [ 5,  6,  7,  8,  9],\n",
       "       [10, 11, 12, 13, 14],\n",
       "       [15, 16, 17, 18, 19],\n",
       "       [20, 21, 22, 23, 24],\n",
       "       [25, 26, 27, 28, 29],\n",
       "       [30, 31, 32, 33, 34],\n",
       "       [35, 36, 37, 38, 39],\n",
       "       [40, 41, 42, 43, 44],\n",
       "       [45, 46, 47, 48, 49]])"
      ]
     },
     "execution_count": 69,
     "metadata": {},
     "output_type": "execute_result"
    }
   ],
   "source": [
    "arr"
   ]
  },
  {
   "cell_type": "markdown",
   "id": "7ec2126c",
   "metadata": {},
   "source": [
    "Array transposition .T function"
   ]
  },
  {
   "cell_type": "code",
   "execution_count": 71,
   "id": "f995603f",
   "metadata": {},
   "outputs": [
    {
     "data": {
      "text/plain": [
       "array([[ 0,  5, 10, 15, 20, 25, 30, 35, 40, 45],\n",
       "       [ 1,  6, 11, 16, 21, 26, 31, 36, 41, 46],\n",
       "       [ 2,  7, 12, 17, 22, 27, 32, 37, 42, 47],\n",
       "       [ 3,  8, 13, 18, 23, 28, 33, 38, 43, 48],\n",
       "       [ 4,  9, 14, 19, 24, 29, 34, 39, 44, 49]])"
      ]
     },
     "execution_count": 71,
     "metadata": {},
     "output_type": "execute_result"
    }
   ],
   "source": [
    "arr.T"
   ]
  },
  {
   "cell_type": "code",
   "execution_count": 73,
   "id": "fdea5bc3",
   "metadata": {},
   "outputs": [
    {
     "data": {
      "text/plain": [
       "array([[7125, 7350, 7575, 7800, 8025],\n",
       "       [7350, 7585, 7820, 8055, 8290],\n",
       "       [7575, 7820, 8065, 8310, 8555],\n",
       "       [7800, 8055, 8310, 8565, 8820],\n",
       "       [8025, 8290, 8555, 8820, 9085]])"
      ]
     },
     "execution_count": 73,
     "metadata": {},
     "output_type": "execute_result"
    }
   ],
   "source": [
    "np.dot(arr.T , arr)"
   ]
  },
  {
   "cell_type": "code",
   "execution_count": 74,
   "id": "375a09fb",
   "metadata": {},
   "outputs": [],
   "source": [
    "arr3d = np.arange(50).reshape((5,5,2))"
   ]
  },
  {
   "cell_type": "code",
   "execution_count": 76,
   "id": "b4763dc3",
   "metadata": {},
   "outputs": [
    {
     "data": {
      "text/plain": [
       "array([[[ 0,  1],\n",
       "        [ 2,  3],\n",
       "        [ 4,  5],\n",
       "        [ 6,  7],\n",
       "        [ 8,  9]],\n",
       "\n",
       "       [[10, 11],\n",
       "        [12, 13],\n",
       "        [14, 15],\n",
       "        [16, 17],\n",
       "        [18, 19]],\n",
       "\n",
       "       [[20, 21],\n",
       "        [22, 23],\n",
       "        [24, 25],\n",
       "        [26, 27],\n",
       "        [28, 29]],\n",
       "\n",
       "       [[30, 31],\n",
       "        [32, 33],\n",
       "        [34, 35],\n",
       "        [36, 37],\n",
       "        [38, 39]],\n",
       "\n",
       "       [[40, 41],\n",
       "        [42, 43],\n",
       "        [44, 45],\n",
       "        [46, 47],\n",
       "        [48, 49]]])"
      ]
     },
     "execution_count": 76,
     "metadata": {},
     "output_type": "execute_result"
    }
   ],
   "source": [
    "arr3d"
   ]
  },
  {
   "cell_type": "code",
   "execution_count": 77,
   "id": "de495be2",
   "metadata": {},
   "outputs": [
    {
     "data": {
      "text/plain": [
       "array([[[ 0,  1],\n",
       "        [10, 11],\n",
       "        [20, 21],\n",
       "        [30, 31],\n",
       "        [40, 41]],\n",
       "\n",
       "       [[ 2,  3],\n",
       "        [12, 13],\n",
       "        [22, 23],\n",
       "        [32, 33],\n",
       "        [42, 43]],\n",
       "\n",
       "       [[ 4,  5],\n",
       "        [14, 15],\n",
       "        [24, 25],\n",
       "        [34, 35],\n",
       "        [44, 45]],\n",
       "\n",
       "       [[ 6,  7],\n",
       "        [16, 17],\n",
       "        [26, 27],\n",
       "        [36, 37],\n",
       "        [46, 47]],\n",
       "\n",
       "       [[ 8,  9],\n",
       "        [18, 19],\n",
       "        [28, 29],\n",
       "        [38, 39],\n",
       "        [48, 49]]])"
      ]
     },
     "execution_count": 77,
     "metadata": {},
     "output_type": "execute_result"
    }
   ],
   "source": [
    "arr3d.transpose((1,0,2))"
   ]
  },
  {
   "cell_type": "code",
   "execution_count": 78,
   "id": "e120d4aa",
   "metadata": {},
   "outputs": [
    {
     "data": {
      "text/plain": [
       "array([[1, 2, 3]])"
      ]
     },
     "execution_count": 78,
     "metadata": {},
     "output_type": "execute_result"
    }
   ],
   "source": [
    "arr = np.array([[1,2,3]])\n",
    "arr"
   ]
  },
  {
   "cell_type": "code",
   "execution_count": 80,
   "id": "fb6f141d",
   "metadata": {},
   "outputs": [
    {
     "data": {
      "text/plain": [
       "array([[1],\n",
       "       [2],\n",
       "       [3]])"
      ]
     },
     "execution_count": 80,
     "metadata": {},
     "output_type": "execute_result"
    }
   ],
   "source": [
    "arr.swapaxes(0,1)"
   ]
  },
  {
   "cell_type": "markdown",
   "id": "17e1ac6a",
   "metadata": {},
   "source": [
    "Universal Array Functions"
   ]
  },
  {
   "cell_type": "code",
   "execution_count": 81,
   "id": "21729f5c",
   "metadata": {},
   "outputs": [],
   "source": [
    "arr = np.arange(0,11)"
   ]
  },
  {
   "cell_type": "code",
   "execution_count": 82,
   "id": "44878d3c",
   "metadata": {},
   "outputs": [
    {
     "data": {
      "text/plain": [
       "array([ 0,  1,  2,  3,  4,  5,  6,  7,  8,  9, 10])"
      ]
     },
     "execution_count": 82,
     "metadata": {},
     "output_type": "execute_result"
    }
   ],
   "source": [
    "arr"
   ]
  },
  {
   "cell_type": "code",
   "execution_count": 83,
   "id": "86df8145",
   "metadata": {},
   "outputs": [
    {
     "data": {
      "text/plain": [
       "array([0.        , 1.        , 1.41421356, 1.73205081, 2.        ,\n",
       "       2.23606798, 2.44948974, 2.64575131, 2.82842712, 3.        ,\n",
       "       3.16227766])"
      ]
     },
     "execution_count": 83,
     "metadata": {},
     "output_type": "execute_result"
    }
   ],
   "source": [
    "np.sqrt(arr)"
   ]
  },
  {
   "cell_type": "code",
   "execution_count": 84,
   "id": "7e1c4a2b",
   "metadata": {},
   "outputs": [
    {
     "data": {
      "text/plain": [
       "array([1.00000000e+00, 2.71828183e+00, 7.38905610e+00, 2.00855369e+01,\n",
       "       5.45981500e+01, 1.48413159e+02, 4.03428793e+02, 1.09663316e+03,\n",
       "       2.98095799e+03, 8.10308393e+03, 2.20264658e+04])"
      ]
     },
     "execution_count": 84,
     "metadata": {},
     "output_type": "execute_result"
    }
   ],
   "source": [
    "np.exp(arr)"
   ]
  },
  {
   "cell_type": "code",
   "execution_count": 85,
   "id": "f6b0f104",
   "metadata": {},
   "outputs": [],
   "source": [
    "A = np.random.randn(10)"
   ]
  },
  {
   "cell_type": "code",
   "execution_count": 86,
   "id": "59e41bc0",
   "metadata": {},
   "outputs": [
    {
     "data": {
      "text/plain": [
       "array([ 0.70281938,  0.9105741 , -1.55366596,  0.59400969,  0.35051766,\n",
       "        0.1649912 , -0.81714893,  0.28138491, -0.55888074, -0.10084483])"
      ]
     },
     "execution_count": 86,
     "metadata": {},
     "output_type": "execute_result"
    }
   ],
   "source": [
    "A"
   ]
  },
  {
   "cell_type": "code",
   "execution_count": 87,
   "id": "1dc2e06c",
   "metadata": {},
   "outputs": [],
   "source": [
    "B = np.random.randn(10)"
   ]
  },
  {
   "cell_type": "code",
   "execution_count": 88,
   "id": "298cf072",
   "metadata": {},
   "outputs": [
    {
     "data": {
      "text/plain": [
       "array([ 0.82955718, -0.1443509 , -0.06945209,  0.5134236 ,  1.11695949,\n",
       "       -0.54304214,  0.05414656, -0.29038717, -0.227093  ,  2.88981134])"
      ]
     },
     "execution_count": 88,
     "metadata": {},
     "output_type": "execute_result"
    }
   ],
   "source": [
    "B"
   ]
  },
  {
   "cell_type": "code",
   "execution_count": 89,
   "id": "3ec75c4a",
   "metadata": {},
   "outputs": [
    {
     "data": {
      "text/plain": [
       "array([ 1.53237657,  0.7662232 , -1.62311805,  1.10743329,  1.46747715,\n",
       "       -0.37805094, -0.76300237, -0.00900226, -0.78597374,  2.7889665 ])"
      ]
     },
     "execution_count": 89,
     "metadata": {},
     "output_type": "execute_result"
    }
   ],
   "source": [
    "# Binary functions\n",
    "np.add(A,B)"
   ]
  },
  {
   "cell_type": "code",
   "execution_count": 91,
   "id": "d6ff0ce4",
   "metadata": {},
   "outputs": [
    {
     "data": {
      "text/plain": [
       "array([ 0.82955718,  0.9105741 , -0.06945209,  0.59400969,  1.11695949,\n",
       "        0.1649912 ,  0.05414656,  0.28138491, -0.227093  ,  2.88981134])"
      ]
     },
     "execution_count": 91,
     "metadata": {},
     "output_type": "execute_result"
    }
   ],
   "source": [
    "np.maximum(A,B)"
   ]
  },
  {
   "cell_type": "code",
   "execution_count": 92,
   "id": "da463e89",
   "metadata": {},
   "outputs": [
    {
     "data": {
      "text/plain": [
       "array([ 0.70281938, -0.1443509 , -1.55366596,  0.5134236 ,  0.35051766,\n",
       "       -0.54304214, -0.81714893, -0.29038717, -0.55888074, -0.10084483])"
      ]
     },
     "execution_count": 92,
     "metadata": {},
     "output_type": "execute_result"
    }
   ],
   "source": [
    "np.minimum(A,B)"
   ]
  },
  {
   "cell_type": "code",
   "execution_count": null,
   "id": "da340eea",
   "metadata": {},
   "outputs": [],
   "source": []
  }
 ],
 "metadata": {
  "kernelspec": {
   "display_name": "Python 3 (ipykernel)",
   "language": "python",
   "name": "python3"
  },
  "language_info": {
   "codemirror_mode": {
    "name": "ipython",
    "version": 3
   },
   "file_extension": ".py",
   "mimetype": "text/x-python",
   "name": "python",
   "nbconvert_exporter": "python",
   "pygments_lexer": "ipython3",
   "version": "3.9.12"
  }
 },
 "nbformat": 4,
 "nbformat_minor": 5
}
